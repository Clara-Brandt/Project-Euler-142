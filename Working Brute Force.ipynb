{
 "cells": [
  {
   "cell_type": "code",
   "execution_count": 121,
   "metadata": {},
   "outputs": [],
   "source": [
    "#needs time checks and stauts outputs in methods"
   ]
  },
  {
   "cell_type": "code",
   "execution_count": 122,
   "metadata": {},
   "outputs": [],
   "source": [
    "#imports\n",
    "import math\n",
    "import time"
   ]
  },
  {
   "cell_type": "code",
   "execution_count": 123,
   "metadata": {},
   "outputs": [],
   "source": [
    "def passesconditions(x, y, z, L):\n",
    "    if (\n",
    "        x > y > z > 0 and\n",
    "        x + y in L and\n",
    "        x - y in L and\n",
    "        x + z in L and\n",
    "        x - z in L and\n",
    "        y + z in L and\n",
    "        y - z in L\n",
    "       ):\n",
    "        return(True)\n",
    "    return(False)"
   ]
  },
  {
   "cell_type": "code",
   "execution_count": 124,
   "metadata": {},
   "outputs": [],
   "source": [
    "#checks if a number is a square by computing the squareroot, and comparing it\n",
    "# to its integer form. calculates the square root of the number twice\n",
    "def chkifsqr(x):\n",
    "    if (int(math.sqrt(x)) == math.sqrt(x)):\n",
    "        return True\n",
    "    else:\n",
    "        return False "
   ]
  },
  {
   "cell_type": "code",
   "execution_count": 129,
   "metadata": {},
   "outputs": [],
   "source": [
    "#will be the master caller to find and display an answer\n",
    "def findmeananswer():\n",
    "    tstart =  time.time()\n",
    "    t = time.time()\n",
    "    numberofsquares = 10000\n",
    "    perfectsquares = findsquares(numberofsquares)\n",
    "    print(\"compute time for list of squares =\", time.time() - t)\n",
    "    xyzmax = 10000\n",
    "    for x in range(xyzmax):\n",
    "        for y in range(x, xyzmax):\n",
    "            for z in range(y, xyzmax):\n",
    "                if (\n",
    "                    (x % 1000 == 0) and\n",
    "                    (y % 2500 == 0) and \n",
    "                    (z == 9999)\n",
    "                    ):\n",
    "                    print(\"x:\", x, \"y:\", y, \"z:\", z)\n",
    "                    print(\"interval compute time is:\", time.time() - t)\n",
    "                    print(\"total compute time is:\", time.time() - tstart)\n",
    "                    print(\"Pardon me master, I found no solution \\n\")    \n",
    "                    t = time.time()\n",
    "                if passesconditions(x, y, z, perfectsquares):\n",
    "                    s = x + y + z\n",
    "                    print(\"your answer is:\", s)\n",
    "                    return True\n",
    "    print(\"Pardon me master, I found no solution\")    "
   ]
  },
  {
   "cell_type": "code",
   "execution_count": 130,
   "metadata": {},
   "outputs": [],
   "source": [
    "#checks if the number has a remainder when divided by one, ie. no decimal places\n",
    "def isint(num):\n",
    "    if num % 1 == 0: \n",
    "        return(True)\n",
    "    return(False)"
   ]
  },
  {
   "cell_type": "code",
   "execution_count": 131,
   "metadata": {},
   "outputs": [],
   "source": [
    "def findsquares(num):\n",
    "    squares = [n ** 2 for n in range(num)]\n",
    "    return(squares)"
   ]
  },
  {
   "cell_type": "code",
   "execution_count": null,
   "metadata": {},
   "outputs": [
    {
     "name": "stdout",
     "output_type": "stream",
     "text": [
      "compute time for list of squares = 0.0056056976318359375\n",
      "x: 0 y: 0 z: 9999\n",
      "interval compute time is: 0.011957883834838867\n",
      "total compute time is: 0.01206517219543457\n",
      "Pardon me master, I found no solution \n",
      "\n",
      "x: 0 y: 2500 z: 9999\n",
      "interval compute time is: 6.841928005218506\n",
      "total compute time is: 6.854206085205078\n",
      "Pardon me master, I found no solution \n",
      "\n",
      "x: 0 y: 5000 z: 9999\n",
      "interval compute time is: 5.104298830032349\n",
      "total compute time is: 11.95862889289856\n",
      "Pardon me master, I found no solution \n",
      "\n",
      "x: 0 y: 7500 z: 9999\n",
      "interval compute time is: 3.022963047027588\n",
      "total compute time is: 14.98171091079712\n",
      "Pardon me master, I found no solution \n",
      "\n"
     ]
    }
   ],
   "source": [
    "findmeananswer()"
   ]
  },
  {
   "cell_type": "code",
   "execution_count": null,
   "metadata": {},
   "outputs": [],
   "source": []
  }
 ],
 "metadata": {
  "kernelspec": {
   "display_name": "Python 3",
   "language": "python",
   "name": "python3"
  },
  "language_info": {
   "codemirror_mode": {
    "name": "ipython",
    "version": 3
   },
   "file_extension": ".py",
   "mimetype": "text/x-python",
   "name": "python",
   "nbconvert_exporter": "python",
   "pygments_lexer": "ipython3",
   "version": "3.7.3"
  }
 },
 "nbformat": 4,
 "nbformat_minor": 2
}
