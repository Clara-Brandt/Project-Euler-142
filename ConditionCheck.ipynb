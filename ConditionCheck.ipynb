{
 "cells": [
  {
   "cell_type": "code",
   "execution_count": 9,
   "metadata": {},
   "outputs": [],
   "source": [
    "#imports\n",
    "import math\n",
    "import time"
   ]
  },
  {
   "cell_type": "code",
   "execution_count": 10,
   "metadata": {},
   "outputs": [],
   "source": [
    "#checks if the necessary conditions are met\n",
    "#goes through the list of expressions and if the result is not a perfect square, returns false, \n",
    "#if all conditions are met, returns true\n",
    "def passesconditions(x, y, z):\n",
    "    C = [x + y,\n",
    "    x - y,\n",
    "    x + z,\n",
    "    x - z,\n",
    "    y + z,\n",
    "    y - z]\n",
    "    \n",
    "    for condition in C:\n",
    "        if not chkifsqr(condition):\n",
    "            return(False)  \n",
    "    return(True)"
   ]
  },
  {
   "cell_type": "code",
   "execution_count": 11,
   "metadata": {},
   "outputs": [],
   "source": [
    "#sums x, y, z\n",
    "def sumxyz(x, y, z):\n",
    "    return(x + y + z)"
   ]
  },
  {
   "cell_type": "code",
   "execution_count": 12,
   "metadata": {},
   "outputs": [],
   "source": [
    "#will be the master caller to find an answer\n",
    "def findmeananswer():\n",
    "    pass"
   ]
  },
  {
   "cell_type": "code",
   "execution_count": 13,
   "metadata": {},
   "outputs": [],
   "source": [
    "#checks if the number has a remainder when divided by one, ie decimal places\n",
    "def isint(num):\n",
    "    if num % 1 == 0: \n",
    "        return(True)\n",
    "    return(False)"
   ]
  },
  {
   "cell_type": "code",
   "execution_count": 14,
   "metadata": {},
   "outputs": [],
   "source": [
    "#checks if a number is a square by computing the squareroot, and comparing it\n",
    "# to its integer form. calculates the quare root of the number twice\n",
    "def chkifsqr(x):\n",
    "    if (int(math.sqrt(x)) == math.sqrt(x)):\n",
    "        return True\n",
    "    else:\n",
    "        return False "
   ]
  },
  {
   "cell_type": "code",
   "execution_count": null,
   "metadata": {},
   "outputs": [],
   "source": []
  },
  {
   "cell_type": "code",
   "execution_count": null,
   "metadata": {},
   "outputs": [],
   "source": []
  }
 ],
 "metadata": {
  "kernelspec": {
   "display_name": "Python 3",
   "language": "python",
   "name": "python3"
  },
  "language_info": {
   "codemirror_mode": {
    "name": "ipython",
    "version": 3
   },
   "file_extension": ".py",
   "mimetype": "text/x-python",
   "name": "python",
   "nbconvert_exporter": "python",
   "pygments_lexer": "ipython3",
   "version": "3.7.3"
  }
 },
 "nbformat": 4,
 "nbformat_minor": 2
}
