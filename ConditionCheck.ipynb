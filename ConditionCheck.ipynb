{
 "cells": [
  {
   "cell_type": "code",
   "execution_count": 53,
   "metadata": {},
   "outputs": [],
   "source": [
    "#needs time checks and stauts outputs in methods"
   ]
  },
  {
   "cell_type": "code",
   "execution_count": 54,
   "metadata": {},
   "outputs": [],
   "source": [
    "#imports\n",
    "import math\n",
    "import time"
   ]
  },
  {
   "cell_type": "code",
   "execution_count": 56,
   "metadata": {},
   "outputs": [],
   "source": [
    "def passesconditions(x, y, z, L):\n",
    "    if (x > y > z > 0  and\n",
    "            x + y in L and\n",
    "            x - y in L and\n",
    "            x + z in L and\n",
    "            x - z in L and\n",
    "            y + z in L and\n",
    "            y - z in L\n",
    "       ):\n",
    "        return(True)\n",
    "    return(False)"
   ]
  },
  {
   "cell_type": "code",
   "execution_count": 57,
   "metadata": {},
   "outputs": [],
   "source": [
    "#checks if a number is a square by computing the squareroot, and comparing it\n",
    "# to its integer form. calculates the square root of the number twice\n",
    "def chkifsqr(x):\n",
    "    if (int(math.sqrt(x)) == math.sqrt(x)):\n",
    "        return True\n",
    "    else:\n",
    "        return False "
   ]
  },
  {
   "cell_type": "code",
   "execution_count": 61,
   "metadata": {},
   "outputs": [],
   "source": [
    "#will be the master caller to find and display an answer\n",
    "def findmeananswer():\n",
    "    numberofsquares = 100\n",
    "    perfectsquares = findsquares(numberofsquares)\n",
    "    xyzmax = 100\n",
    "    for x in range(xyzmax):\n",
    "        for y in range(xyzmax):\n",
    "            for z in range(xyzmax):\n",
    "                if passesconditions(x, y, z, perfectsquares):\n",
    "                    s = x + y + z\n",
    "                    print(\"your answer is:\", s)\n",
    "                    return True\n",
    "    print(\"Pardon me master, I found no solution\")    "
   ]
  },
  {
   "cell_type": "code",
   "execution_count": 62,
   "metadata": {},
   "outputs": [],
   "source": [
    "#checks if the number has a remainder when divided by one, ie. no decimal places\n",
    "def isint(num):\n",
    "    if num % 1 == 0: \n",
    "        return(True)\n",
    "    return(False)"
   ]
  },
  {
   "cell_type": "code",
   "execution_count": 63,
   "metadata": {},
   "outputs": [
    {
     "name": "stdout",
     "output_type": "stream",
     "text": [
      "Pardon me master, I found no solution\n"
     ]
    }
   ],
   "source": [
    "findmeananswer()"
   ]
  },
  {
   "cell_type": "code",
   "execution_count": 64,
   "metadata": {},
   "outputs": [],
   "source": [
    "def findsquares(num):\n",
    "    squares = [n ** 2 for n in range(num)]\n",
    "    return(squares)"
   ]
  },
  {
   "cell_type": "code",
   "execution_count": null,
   "metadata": {},
   "outputs": [],
   "source": []
  }
 ],
 "metadata": {
  "kernelspec": {
   "display_name": "Python 3",
   "language": "python",
   "name": "python3"
  },
  "language_info": {
   "codemirror_mode": {
    "name": "ipython",
    "version": 3
   },
   "file_extension": ".py",
   "mimetype": "text/x-python",
   "name": "python",
   "nbconvert_exporter": "python",
   "pygments_lexer": "ipython3",
   "version": "3.7.3"
  }
 },
 "nbformat": 4,
 "nbformat_minor": 2
}
