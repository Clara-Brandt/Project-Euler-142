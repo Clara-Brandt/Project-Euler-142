{
 "cells": [
  {
   "cell_type": "code",
   "execution_count": 44,
   "metadata": {},
   "outputs": [],
   "source": [
    "#needs time checks and stauts outputs in methods"
   ]
  },
  {
   "cell_type": "code",
   "execution_count": 38,
   "metadata": {},
   "outputs": [],
   "source": [
    "#imports\n",
    "import math\n",
    "import time"
   ]
  },
  {
   "cell_type": "code",
   "execution_count": 39,
   "metadata": {},
   "outputs": [],
   "source": [
    "#checks if the necessary conditions are met\n",
    "#goes through the list of expressions and if the result is not a perfect square, returns false, \n",
    "#if all conditions are met, returns true\n",
    "def passesconditions(x, y, z):\n",
    "    C = [x + y,\n",
    "            x - y,\n",
    "            x + z,\n",
    "            x - z,\n",
    "            y + z,\n",
    "            y - z]\n",
    "    for expression in C:\n",
    "        if not chkifsqr(expression):\n",
    "            return(False)  \n",
    "    return(True)"
   ]
  },
  {
   "cell_type": "code",
   "execution_count": 40,
   "metadata": {},
   "outputs": [],
   "source": [
    "def passesconditions():\n",
    "    if (x > y > z > 0  and\n",
    "            x + y in L and\n",
    "            x - y in L and\n",
    "            x + z in L and\n",
    "            x - z in L and\n",
    "            y + z in L and\n",
    "            y - z in L\n",
    "       ):\n",
    "        return(True)\n",
    "    return(False)"
   ]
  },
  {
   "cell_type": "code",
   "execution_count": 41,
   "metadata": {},
   "outputs": [],
   "source": [
    "#checks if a number is a square by computing the squareroot, and comparing it\n",
    "# to its integer form. calculates the square root of the number twice\n",
    "def chkifsqr(x):\n",
    "    if (int(math.sqrt(x)) == math.sqrt(x)):\n",
    "        return True\n",
    "    else:\n",
    "        return False "
   ]
  },
  {
   "cell_type": "code",
   "execution_count": 42,
   "metadata": {},
   "outputs": [],
   "source": [
    "#will be the master caller to find and display an answer\n",
    "def findmeananswer():\n",
    "    for x in range(100):\n",
    "        for y in range(100):\n",
    "            for z in range(100):\n",
    "                if passesconditions(x, y, z):\n",
    "                    s = x + y + z\n",
    "                    print(\"your answer is:\", s)\n",
    "                    break\n",
    "        "
   ]
  },
  {
   "cell_type": "code",
   "execution_count": 43,
   "metadata": {},
   "outputs": [],
   "source": [
    "#checks if the number has a remainder when divided by one, ie. no decimal places\n",
    "def isint(num):\n",
    "    if num % 1 == 0: \n",
    "        return(True)\n",
    "    return(False)"
   ]
  },
  {
   "cell_type": "code",
   "execution_count": null,
   "metadata": {},
   "outputs": [],
   "source": []
  }
 ],
 "metadata": {
  "kernelspec": {
   "display_name": "Python 3",
   "language": "python",
   "name": "python3"
  },
  "language_info": {
   "codemirror_mode": {
    "name": "ipython",
    "version": 3
   },
   "file_extension": ".py",
   "mimetype": "text/x-python",
   "name": "python",
   "nbconvert_exporter": "python",
   "pygments_lexer": "ipython3",
   "version": "3.7.3"
  }
 },
 "nbformat": 4,
 "nbformat_minor": 2
}
